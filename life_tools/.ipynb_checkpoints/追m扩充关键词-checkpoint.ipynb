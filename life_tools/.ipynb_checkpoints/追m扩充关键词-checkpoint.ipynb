{
 "cells": [
  {
   "cell_type": "code",
   "execution_count": 1,
   "id": "e157fc55-db4f-42b8-b5e9-ed396bd5444e",
   "metadata": {},
   "outputs": [],
   "source": [
    "import pandas as pd"
   ]
  },
  {
   "cell_type": "code",
   "execution_count": 2,
   "id": "bbb313cb-e763-4f74-9d53-59c94dde136d",
   "metadata": {},
   "outputs": [
    {
     "data": {
      "text/html": [
       "<div>\n",
       "<style scoped>\n",
       "    .dataframe tbody tr th:only-of-type {\n",
       "        vertical-align: middle;\n",
       "    }\n",
       "\n",
       "    .dataframe tbody tr th {\n",
       "        vertical-align: top;\n",
       "    }\n",
       "\n",
       "    .dataframe thead th {\n",
       "        text-align: right;\n",
       "    }\n",
       "</style>\n",
       "<table border=\"1\" class=\"dataframe\">\n",
       "  <thead>\n",
       "    <tr style=\"text-align: right;\">\n",
       "      <th></th>\n",
       "      <th>省份名称</th>\n",
       "      <th>地级市名称</th>\n",
       "    </tr>\n",
       "  </thead>\n",
       "  <tbody>\n",
       "    <tr>\n",
       "      <th>0</th>\n",
       "      <td>北京市</td>\n",
       "      <td>北京市</td>\n",
       "    </tr>\n",
       "    <tr>\n",
       "      <th>1</th>\n",
       "      <td>天津市</td>\n",
       "      <td>天津市</td>\n",
       "    </tr>\n",
       "    <tr>\n",
       "      <th>2</th>\n",
       "      <td>河北省</td>\n",
       "      <td>石家庄市, 唐山市, 秦皇岛市, 邯郸市, 邢台市, 保定市, 张家口市, 承德市, 沧州市...</td>\n",
       "    </tr>\n",
       "    <tr>\n",
       "      <th>3</th>\n",
       "      <td>山西省</td>\n",
       "      <td>太原市, 大同市, 阳泉市, 长治市, 晋城市, 朔州市, 晋中市, 运城市, 忻州市, 临...</td>\n",
       "    </tr>\n",
       "    <tr>\n",
       "      <th>4</th>\n",
       "      <td>内蒙古自治区</td>\n",
       "      <td>呼和浩特市, 包头市, 乌海市, 赤峰市, 通辽市, 鄂尔多斯市, 呼伦贝尔市, 巴彦淖尔市...</td>\n",
       "    </tr>\n",
       "  </tbody>\n",
       "</table>\n",
       "</div>"
      ],
      "text/plain": [
       "     省份名称                                              地级市名称\n",
       "0     北京市                                                北京市\n",
       "1     天津市                                                天津市\n",
       "2     河北省  石家庄市, 唐山市, 秦皇岛市, 邯郸市, 邢台市, 保定市, 张家口市, 承德市, 沧州市...\n",
       "3     山西省  太原市, 大同市, 阳泉市, 长治市, 晋城市, 朔州市, 晋中市, 运城市, 忻州市, 临...\n",
       "4  内蒙古自治区  呼和浩特市, 包头市, 乌海市, 赤峰市, 通辽市, 鄂尔多斯市, 呼伦贝尔市, 巴彦淖尔市..."
      ]
     },
     "execution_count": 2,
     "metadata": {},
     "output_type": "execute_result"
    }
   ],
   "source": [
    "df=pd.read_excel('全国省份和地级市划分.xlsx')\n",
    "df.head()"
   ]
  },
  {
   "cell_type": "code",
   "execution_count": 3,
   "id": "c2a1f751-8530-40e2-9f08-1ba0913bb03c",
   "metadata": {},
   "outputs": [
    {
     "data": {
      "text/plain": [
       "array(['北京市', '天津市', '河北省', '山西省', '内蒙古自治区', '辽宁省', '吉林省', '黑龙江省', '上海市',\n",
       "       '江苏省', '浙江省', '安徽省', '福建省', '江西省', '山东省', '河南省', '湖北省', '湖南省',\n",
       "       '广东省', '海南省', '四川省', '贵州省', '云南省', '陕西省'], dtype=object)"
      ]
     },
     "execution_count": 3,
     "metadata": {},
     "output_type": "execute_result"
    }
   ],
   "source": [
    "province=df[~df['省份名称'].isin(['甘肃省', '青海省', '宁夏回族自治区', '新疆维吾尔自治区', '台湾省', '香港特别行政区', \\\n",
    "                              '广西壮族自治区','澳门特别行政区','西藏自治区'])]['省份名称'].values\n",
    "province"
   ]
  },
  {
   "cell_type": "code",
   "execution_count": 4,
   "id": "1abbf021-d4ae-4c9e-9e55-e0eb56377b3f",
   "metadata": {},
   "outputs": [
    {
     "data": {
      "text/plain": [
       "['北京',\n",
       " '天津',\n",
       " '河北',\n",
       " '山西',\n",
       " '内蒙古',\n",
       " '辽宁',\n",
       " '吉林',\n",
       " '黑龙江',\n",
       " '上海',\n",
       " '江苏',\n",
       " '浙江',\n",
       " '安徽',\n",
       " '福建',\n",
       " '江西',\n",
       " '山东',\n",
       " '河南',\n",
       " '湖北',\n",
       " '湖南',\n",
       " '广东',\n",
       " '海南',\n",
       " '四川',\n",
       " '贵州',\n",
       " '云南',\n",
       " '陕西']"
      ]
     },
     "execution_count": 4,
     "metadata": {},
     "output_type": "execute_result"
    }
   ],
   "source": [
    "province=['北京市', '天津市', '河北省', '山西省', '内蒙古', '辽宁省', '吉林省', '黑龙江省', '上海市',\n",
    "       '江苏省', '浙江省', '安徽省', '福建省', '江西省', '山东省', '河南省', '湖北省', '湖南省',\n",
    "       '广东省', '海南省', '四川省', '贵州省', '云南省', '陕西省']\n",
    "province=[i.replace('省','').replace('市','') for i in province]\n",
    "province"
   ]
  },
  {
   "cell_type": "code",
   "execution_count": 5,
   "id": "cfee5c16-690d-44f6-a404-57b13d68a310",
   "metadata": {},
   "outputs": [
    {
     "data": {
      "text/html": [
       "<div>\n",
       "<style scoped>\n",
       "    .dataframe tbody tr th:only-of-type {\n",
       "        vertical-align: middle;\n",
       "    }\n",
       "\n",
       "    .dataframe tbody tr th {\n",
       "        vertical-align: top;\n",
       "    }\n",
       "\n",
       "    .dataframe thead th {\n",
       "        text-align: right;\n",
       "    }\n",
       "</style>\n",
       "<table border=\"1\" class=\"dataframe\">\n",
       "  <thead>\n",
       "    <tr style=\"text-align: right;\">\n",
       "      <th></th>\n",
       "      <th>keyword</th>\n",
       "    </tr>\n",
       "  </thead>\n",
       "  <tbody>\n",
       "    <tr>\n",
       "      <th>0</th>\n",
       "      <td>追觅洗地机怎么使用</td>\n",
       "    </tr>\n",
       "    <tr>\n",
       "      <th>1</th>\n",
       "      <td>追觅洗地机维修</td>\n",
       "    </tr>\n",
       "    <tr>\n",
       "      <th>2</th>\n",
       "      <td>追觅官方售后维修点</td>\n",
       "    </tr>\n",
       "    <tr>\n",
       "      <th>3</th>\n",
       "      <td>哪里可以修理追觅洗地机</td>\n",
       "    </tr>\n",
       "    <tr>\n",
       "      <th>4</th>\n",
       "      <td>追觅洗地机上海维修点</td>\n",
       "    </tr>\n",
       "  </tbody>\n",
       "</table>\n",
       "</div>"
      ],
      "text/plain": [
       "       keyword\n",
       "0    追觅洗地机怎么使用\n",
       "1      追觅洗地机维修\n",
       "2    追觅官方售后维修点\n",
       "3  哪里可以修理追觅洗地机\n",
       "4   追觅洗地机上海维修点"
      ]
     },
     "execution_count": 5,
     "metadata": {},
     "output_type": "execute_result"
    }
   ],
   "source": [
    "df_key=pd.read_csv('追m洗地机关键词.csv')\n",
    "df_key.head()"
   ]
  },
  {
   "cell_type": "code",
   "execution_count": 6,
   "id": "5ae1f6b1-c3f2-44bf-b0e4-299b9c4533f7",
   "metadata": {},
   "outputs": [
    {
     "data": {
      "text/plain": [
       "143"
      ]
     },
     "execution_count": 6,
     "metadata": {},
     "output_type": "execute_result"
    }
   ],
   "source": [
    "key_words=list(set(df_key['keyword'].values))\n",
    "len(key_words)"
   ]
  },
  {
   "cell_type": "code",
   "execution_count": 7,
   "id": "1846970b-5cf8-4c9f-937f-07dce239cd59",
   "metadata": {},
   "outputs": [
    {
     "name": "stdout",
     "output_type": "stream",
     "text": [
      "追觅洗地机开关键坏了怎么维修\n",
      "追觅洗地机无法开机\n",
      "追觅洗地机维修店在哪里\n",
      "追觅洗地机维修中心服务电话\n",
      "追觅洗地机上海维修点\n",
      "追觅洗地机售后维修点\n",
      "追觅洗地机深圳维修电话\n",
      "追觅洗地机电机摔坏\n",
      "兰州追觅洗地机开关坏了怎么修\n",
      "追觅洗地机漏水维修\n",
      "追觅洗地机拆装\n",
      "追觅洗地机突然不工作不启动\n",
      "追觅洗地机维修中心北京\n",
      "追觅洗地机为什么突然显示污水箱已满了\n",
      "追觅洗地机指定维修点\n",
      "追觅洗地机深圳售后维修点\n",
      "追觅洗地机官网维修点\n",
      "追觅洗地机电池维修\n",
      "追觅洗地机维修点\n",
      "追觅洗地机电池配件哪里买\n",
      "追觅洗地机启动电池坏了哪里可以配\n",
      "追觅洗地机自动断电维修\n",
      "南京追觅售后维修点\n",
      "追觅洗地机北京有维修点吗\n",
      "追觅洗地机换电池太贵了\n",
      "追觅洗地机维修点南京\n",
      "追觅洗地机拆洗怎么收费\n",
      "追觅洗地机怎么使用\n",
      "追觅洗地机不能开机怎么办\n",
      "追觅洗地机插电灯闪烁维修\n",
      "追觅洗地机福州维修点在哪里\n",
      "追觅洗地机开关坏了需更换\n",
      "维修追觅洗地机漏水\n",
      "追觅洗地机坏了如何处理\n",
      "追觅洗地机淮安售后\n",
      "追觅洗地机故障代码修理方法\n",
      "追觅洗地机不能正常工作了\n",
      "追觅洗地机售后服务中心\n",
      "追觅洗地机显示屏跳动\n",
      "追觅洗地机电池怎么拆\n",
      "追觅洗地机维修服务\n",
      "追觅洗地机电池\n",
      "追觅洗地机充电电池维修\n",
      "追觅泉州的维修点在哪里\n",
      "洗地机出现闪灯显示污水箱已满怎么办\n",
      "追觅洗地机维修网点\n",
      "追觅电池换电芯\n",
      "追觅洗地机使用时断时续是什么问题\n",
      "追觅洗地机维修部地址\n",
      "追觅洗地机使用常见故障\n",
      "追觅洗地机维修点有吗\n",
      "追觅维修\n",
      "追觅洗地机为什么突然不工作了\n",
      "追觅洗地机报修点\n",
      "追觅洗地机通电有滴滴滴警报声\n",
      "追觅维修售后网点杭州\n",
      "追觅维修售后网点电话\n",
      "追觅售后服务\n",
      "追觅洗地机出现报警声\n",
      "追觅洗地机无法给仪器充电\n",
      "追觅洗地机电机坏了怎么更换\n",
      "追觅洗地机开关键失灵是什么原因\n",
      "追觅售后服务中心\n",
      "追觅北京维修中心在哪里\n",
      "追觅洗地机显示屏不稳定\n",
      "追觅洗地机不能启动显示水箱未安装\n",
      "追觅官方售后维修点\n",
      "追觅电池维修北京\n",
      "追觅洗地机售后客服电话\n",
      "追觅洗地机显示屏闪烁不工作\n",
      "哪里可以维修追觅洗地机\n",
      "追觅洗地机外壳破裂修理\n",
      "追觅洗地机充不了电怎么办\n",
      "追觅洗地机通电显示污水箱已满怎么办\n",
      "追觅洗地机维修中心\n",
      "追觅洗地机维修地址\n",
      "追觅洗地机不能正常开机\n",
      "追觅洗地机维修\n",
      "追觅洗地机充电为什么会一闪一闪的\n",
      "追觅洗地机如何清洗\n",
      "追觅洗地机维修服务部\n",
      "追觅洗地机运行显示代码E4故障怎么处理\n",
      "追觅洗地机维修费用多少\n",
      "追觅洗地机摔坏不开机\n",
      "追觅洗地机维修郑州\n",
      "追觅洗地机怎么找售后\n",
      "追觅洗地机插电但不工作\n",
      "追觅洗地机更换新电池\n",
      "追觅洗地机充电了只能使用几分钟\n",
      "追觅洗地机坏了电机配件购买\n",
      "哪里能修追觅洗地机\n",
      "追觅售后维修要几天\n",
      "追觅洗地机不通电怎么办\n",
      "追觅洗地机启动电机怎样检测是否坏了\n",
      "追觅洗地机拆洗怎么拆\n",
      "追觅维修售后北京\n",
      "追觅洗地机故障有哪些\n",
      "追觅洗地机充电线断了\n",
      "追觅洗地机维修北京维修点\n",
      "追觅洗地机过一会就不工作了\n",
      "追觅深圳罗湖区售后维修点\n",
      "追觅维修点\n",
      "追觅洗地机电源开关按不动\n",
      "追觅洗地机维修部\n",
      "追觅洗地机官方售后维修中心\n",
      "追觅洗地机天津售后\n",
      "追觅洗地机维修充不了电\n",
      "追觅洗地机可以清洗吗\n",
      "追觅洗地机漏水维修得多少钱\n",
      "追觅洗地机电池该如何更换\n",
      "追觅洗地机漏水了怎么办\n",
      "追觅洗地机维修售后网点青岛\n",
      "追觅洗地机污水箱不回位\n",
      "追觅洗地机接触不良怎么回事\n",
      "追觅全国维修点查询\n",
      "追觅杭州售后维修点\n",
      "追觅维修中心\n",
      "追觅洗地机售后维修\n",
      "追觅洗地机开关键失灵\n",
      "追觅洗地机售后服务电话\n",
      "追觅闪红灯无法充电解决方法\n",
      "追觅洗地机出现异响声\n",
      "追觅洗地机无法正常打开污水箱\n",
      "追觅洗地机漏水修理\n",
      "有追觅维修点吗\n",
      "追觅洗地机怎么拆洗\n",
      "追觅洗地机去哪里修理\n",
      "需更换追觅洗地机电池\n",
      "追觅电池维修\n",
      "追觅洗地机哪儿有维修\n",
      "追觅洗地机北京维修站\n",
      "追觅洗地机充完电无法开机\n",
      "追觅洗地机有电不工作是怎么回事\n",
      "追觅洗地机漏水了怎么解决\n",
      "追觅洗地机维修点在哪里\n",
      "追觅官网首页\n",
      "追觅售后维修点\n",
      "追觅洗地机显示污水箱已满怎么回事\n",
      "哪里可以修理追觅洗地机\n",
      "追觅洗地机清洁\n",
      "维修追觅洗地机\n",
      "追觅洗地机上海维修中心\n",
      "追觅洗地机武汉维修点\n"
     ]
    }
   ],
   "source": [
    "for i in key_words:\n",
    "    print(i)"
   ]
  },
  {
   "cell_type": "code",
   "execution_count": 8,
   "id": "db8bfdb6-f18c-4dc0-a0eb-2b34795798e1",
   "metadata": {
    "scrolled": true
   },
   "outputs": [
    {
     "data": {
      "text/plain": [
       "array(['北京市', '天津市',\n",
       "       '石家庄市, 唐山市, 秦皇岛市, 邯郸市, 邢台市, 保定市, 张家口市, 承德市, 沧州市, 廊坊市, 衡水市',\n",
       "       '太原市, 大同市, 阳泉市, 长治市, 晋城市, 朔州市, 晋中市, 运城市, 忻州市, 临汾市, 吕梁市',\n",
       "       '呼和浩特市, 包头市, 乌海市, 赤峰市, 通辽市, 鄂尔多斯市, 呼伦贝尔市, 巴彦淖尔市, 乌兰察布市, 兴安盟, 锡林郭勒盟, 阿拉善盟',\n",
       "       '沈阳市, 大连市, 鞍山市, 抚顺市, 本溪市, 丹东市, 锦州市, 营口市, 阜新市, 辽阳市, 盘锦市, 铁岭市, 朝阳市, 葫芦岛市',\n",
       "       '长春市, 吉林市, 四平市, 辽源市, 通化市, 白山市, 松原市, 白城市, 延边朝鲜族自治州',\n",
       "       '哈尔滨市, 齐齐哈尔市, 鸡西市, 鹤岗市, 双鸭山市, 大庆市, 伊春市, 佳木斯市, 七台河市, 牡丹江市, 黑河市, 绥化市, 大兴安岭地区',\n",
       "       '上海市',\n",
       "       '南京市, 无锡市, 徐州市, 常州市, 苏州市, 南通市, 连云港市, 淮安市, 盐城市, 扬州市, 镇江市, 泰州市, 宿迁市',\n",
       "       '杭州市, 宁波市, 温州市, 嘉兴市, 湖州市, 绍兴市, 金华市, 衢州市, 舟山市, 台州市, 丽水市',\n",
       "       '合肥市, 芜湖市, 蚌埠市, 淮南市, 马鞍山市, 淮北市, 铜陵市, 安庆市, 黄山市, 滁州市, 阜阳市, 宿州市, 六安市, 亳州市, 池州市, 宣城市',\n",
       "       '福州市, 厦门市, 莆田市, 三明市, 泉州市, 漳州市, 南平市, 龙岩市, 宁德市',\n",
       "       '南昌市, 景德镇市, 萍乡市, 九江市, 新余市, 鹰潭市, 赣州市, 宜春市, 上饶市, 吉安市, 抚州市, 赣江新区',\n",
       "       '济南市, 青岛市, 淄博市, 枣庄市, 东营市, 烟台市, 潍坊市, 济宁市, 泰安市, 威海市, 日照市, 莱芜市, 临沂市, 德州市, 聊城市, 滨州市, 菏泽市',\n",
       "       '郑州市, 开封市, 洛阳市, 平顶山市, 安阳市, 鹤壁市, 新乡市, 焦作市, 濮阳市, 许昌市, 漯河市, 三门峡市, 南阳市, 商丘市, 信阳市, 周口市, 驻马店市, 济源市',\n",
       "       '武汉市, 黄石市, 十堰市, 宜昌市, 襄阳市, 鄂州市, 荆门市, 孝感市, 荆州市, 黄冈市, 咸宁市, 随州市, 恩施土家族苗族自治州, 仙桃市, 潜江市, 天门市, 神农架林区',\n",
       "       '长沙市, 株洲市, 湘潭市, 衡阳市, 邵阳市, 岳阳市, 常德市, 张家界市, 益阳市, 郴州市, 永州市, 怀化市, 娄底市',\n",
       "       '广州市, 深圳市, 珠海市, 汕头市, 佛山市, 韶关市, 湛江市, 肇庆市, 江门市, 茂名市, 惠州市, 梅州市, 汕尾市, 河源市, 阳江市, 清远市, 东莞市, 中山市, 潮州市, 揭阳市, 云浮市',\n",
       "       '南宁市, 柳州市, 桂林市, 梧州市, 北海市, 防城港市, 钦州市, 贵港市, 玉林市, 百色市, 贺州市, 河池市, 来宾市, 崇左市',\n",
       "       '海口市, 三亚市, 三沙市, 儋州市, 五指山市, 琼海市, 文昌市, 万宁市, 东方市, 定安县, 屯昌县, 澄迈县, 临高县, 白沙黎族自治县, 昌江黎族自治县, 乐东黎族自治县, 陵水黎族自治县, 保亭黎族苗族自治县, 琼中黎族苗族自治县',\n",
       "       '成都市, 自贡市, 攀枝花市, 泸州市, 德阳市, 绵阳市, 广元市, 遂宁市, 内江市, 乐山市, 南充市, 眉山市, 宜宾市, 广安市, 达州市, 雅安市, 巴中市, 资阳市, 阿坝藏族羌族自治州, 甘孜藏族自治州, 凉山彝族自治州',\n",
       "       '贵阳市, 六盘水市, 遵义市, 安顺市, 毕节市, 铜仁市, 黔西南布依族苗族自治州, 黔东南苗族侗族自治州, 黔南布依族苗族自治州',\n",
       "       '昆明市, 曲靖市, 玉溪市, 保山市, 昭通市, 丽江市, 普洱市, 临沧市, 楚雄彝族自治州, 红河哈尼族彝族自治州, 文山壮族苗族自治州, 西双版纳傣族自治州, 大理白族自治州, 德宏傣族景颇族自治州, 怒江傈僳族自治州, 迪庆藏族自治州',\n",
       "       '西安市, 铜川市, 宝鸡市, 咸阳市, 渭南市, 延安市, 汉中市, 榆林市, 安康市, 商洛市'], dtype=object)"
      ]
     },
     "execution_count": 8,
     "metadata": {},
     "output_type": "execute_result"
    }
   ],
   "source": [
    "city=df[~df['省份名称'].isin(['甘肃省', '青海省', '宁夏回族自治区', '新疆维吾尔自治区', '台湾省', '香港特别行政区', '澳门特别行政区','西藏自治区'])]['地级市名称'].values\n",
    "city"
   ]
  },
  {
   "cell_type": "code",
   "execution_count": 9,
   "id": "76c17eef-69bc-4386-89e7-a6a98f1b3ccd",
   "metadata": {},
   "outputs": [
    {
     "data": {
      "text/plain": [
       "309"
      ]
     },
     "execution_count": 9,
     "metadata": {},
     "output_type": "execute_result"
    }
   ],
   "source": [
    "city_list=[]\n",
    "for i in city:\n",
    "    cl=i.split(', ')\n",
    "    for c in cl:\n",
    "        city_list.append(c)\n",
    "len(city_list)"
   ]
  },
  {
   "cell_type": "code",
   "execution_count": 10,
   "id": "eab416fa-bf53-48be-95eb-46746cdfe497",
   "metadata": {},
   "outputs": [
    {
     "data": {
      "text/plain": [
       "286"
      ]
     },
     "execution_count": 10,
     "metadata": {},
     "output_type": "execute_result"
    }
   ],
   "source": [
    "city_list=[i for i in city_list if len(i)<6]\n",
    "len(city_list)"
   ]
  },
  {
   "cell_type": "code",
   "execution_count": 11,
   "id": "b9512e4d-7018-409c-973a-21b7b73f4d9c",
   "metadata": {},
   "outputs": [
    {
     "data": {
      "text/plain": [
       "286"
      ]
     },
     "execution_count": 11,
     "metadata": {},
     "output_type": "execute_result"
    }
   ],
   "source": [
    "city_list=[i.replace('省','').replace('市','') for i in city_list]\n",
    "len(city_list)"
   ]
  },
  {
   "cell_type": "code",
   "execution_count": 12,
   "id": "52b54861-780c-4f7b-a63f-f141734c304c",
   "metadata": {},
   "outputs": [
    {
     "data": {
      "text/plain": [
       "143"
      ]
     },
     "execution_count": 12,
     "metadata": {},
     "output_type": "execute_result"
    }
   ],
   "source": [
    "new_key_words=[]\n",
    "for i in key_words:\n",
    "    new_key_words.append(i)\n",
    "len(new_key_words)"
   ]
  },
  {
   "cell_type": "code",
   "execution_count": 13,
   "id": "0714a141-ed1e-45db-9c5b-4124c037b20e",
   "metadata": {},
   "outputs": [
    {
     "data": {
      "text/plain": [
       "1001"
      ]
     },
     "execution_count": 13,
     "metadata": {},
     "output_type": "execute_result"
    }
   ],
   "source": [
    "key_words2=['追觅洗地机维修','追觅洗地机去哪里修理','追觅维修中心']\n",
    "for i in city_list:\n",
    "    for j in key_words2:\n",
    "        new_key_words.append(i+j)\n",
    "len(new_key_words)"
   ]
  },
  {
   "cell_type": "code",
   "execution_count": 14,
   "id": "c50e1a27-6e4a-4bd2-a836-e273a8f8092e",
   "metadata": {},
   "outputs": [
    {
     "data": {
      "text/html": [
       "<div>\n",
       "<style scoped>\n",
       "    .dataframe tbody tr th:only-of-type {\n",
       "        vertical-align: middle;\n",
       "    }\n",
       "\n",
       "    .dataframe tbody tr th {\n",
       "        vertical-align: top;\n",
       "    }\n",
       "\n",
       "    .dataframe thead th {\n",
       "        text-align: right;\n",
       "    }\n",
       "</style>\n",
       "<table border=\"1\" class=\"dataframe\">\n",
       "  <thead>\n",
       "    <tr style=\"text-align: right;\">\n",
       "      <th></th>\n",
       "      <th>key_word</th>\n",
       "    </tr>\n",
       "  </thead>\n",
       "  <tbody>\n",
       "    <tr>\n",
       "      <th>0</th>\n",
       "      <td>追觅洗地机开关键坏了怎么维修</td>\n",
       "    </tr>\n",
       "    <tr>\n",
       "      <th>1</th>\n",
       "      <td>追觅洗地机无法开机</td>\n",
       "    </tr>\n",
       "    <tr>\n",
       "      <th>2</th>\n",
       "      <td>追觅洗地机维修店在哪里</td>\n",
       "    </tr>\n",
       "    <tr>\n",
       "      <th>3</th>\n",
       "      <td>追觅洗地机维修中心服务电话</td>\n",
       "    </tr>\n",
       "    <tr>\n",
       "      <th>4</th>\n",
       "      <td>追觅洗地机上海维修点</td>\n",
       "    </tr>\n",
       "  </tbody>\n",
       "</table>\n",
       "</div>"
      ],
      "text/plain": [
       "         key_word\n",
       "0  追觅洗地机开关键坏了怎么维修\n",
       "1       追觅洗地机无法开机\n",
       "2     追觅洗地机维修店在哪里\n",
       "3   追觅洗地机维修中心服务电话\n",
       "4      追觅洗地机上海维修点"
      ]
     },
     "execution_count": 14,
     "metadata": {},
     "output_type": "execute_result"
    }
   ],
   "source": [
    "# 保存新关键词\n",
    "df_new=pd.DataFrame(new_key_words,columns=['key_word'])\n",
    "df_new.head()"
   ]
  },
  {
   "cell_type": "code",
   "execution_count": 15,
   "id": "92a8c755-56af-4a94-b8e6-f08362ce44cf",
   "metadata": {},
   "outputs": [],
   "source": [
    "df_new.to_csv('追m关键词扩充v1.csv',index=0)"
   ]
  },
  {
   "cell_type": "code",
   "execution_count": null,
   "id": "c3862ef2-944b-43c8-8496-d54388bdeff9",
   "metadata": {},
   "outputs": [],
   "source": []
  }
 ],
 "metadata": {
  "kernelspec": {
   "display_name": "Python 3 (ipykernel)",
   "language": "python",
   "name": "python3"
  },
  "language_info": {
   "codemirror_mode": {
    "name": "ipython",
    "version": 3
   },
   "file_extension": ".py",
   "mimetype": "text/x-python",
   "name": "python",
   "nbconvert_exporter": "python",
   "pygments_lexer": "ipython3",
   "version": "3.8.15"
  }
 },
 "nbformat": 4,
 "nbformat_minor": 5
}
