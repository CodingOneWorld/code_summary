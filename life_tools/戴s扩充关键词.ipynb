{
 "cells": [
  {
   "cell_type": "code",
   "execution_count": 2,
   "id": "e157fc55-db4f-42b8-b5e9-ed396bd5444e",
   "metadata": {},
   "outputs": [],
   "source": [
    "import pandas as pd"
   ]
  },
  {
   "cell_type": "code",
   "execution_count": 3,
   "id": "bbb313cb-e763-4f74-9d53-59c94dde136d",
   "metadata": {},
   "outputs": [
    {
     "data": {
      "text/html": [
       "<div>\n",
       "<style scoped>\n",
       "    .dataframe tbody tr th:only-of-type {\n",
       "        vertical-align: middle;\n",
       "    }\n",
       "\n",
       "    .dataframe tbody tr th {\n",
       "        vertical-align: top;\n",
       "    }\n",
       "\n",
       "    .dataframe thead th {\n",
       "        text-align: right;\n",
       "    }\n",
       "</style>\n",
       "<table border=\"1\" class=\"dataframe\">\n",
       "  <thead>\n",
       "    <tr style=\"text-align: right;\">\n",
       "      <th></th>\n",
       "      <th>省份名称</th>\n",
       "      <th>地级市名称</th>\n",
       "    </tr>\n",
       "  </thead>\n",
       "  <tbody>\n",
       "    <tr>\n",
       "      <th>0</th>\n",
       "      <td>北京市</td>\n",
       "      <td>北京市</td>\n",
       "    </tr>\n",
       "    <tr>\n",
       "      <th>1</th>\n",
       "      <td>天津市</td>\n",
       "      <td>天津市</td>\n",
       "    </tr>\n",
       "    <tr>\n",
       "      <th>2</th>\n",
       "      <td>河北省</td>\n",
       "      <td>石家庄市, 唐山市, 秦皇岛市, 邯郸市, 邢台市, 保定市, 张家口市, 承德市, 沧州市...</td>\n",
       "    </tr>\n",
       "    <tr>\n",
       "      <th>3</th>\n",
       "      <td>山西省</td>\n",
       "      <td>太原市, 大同市, 阳泉市, 长治市, 晋城市, 朔州市, 晋中市, 运城市, 忻州市, 临...</td>\n",
       "    </tr>\n",
       "    <tr>\n",
       "      <th>4</th>\n",
       "      <td>内蒙古自治区</td>\n",
       "      <td>呼和浩特市, 包头市, 乌海市, 赤峰市, 通辽市, 鄂尔多斯市, 呼伦贝尔市, 巴彦淖尔市...</td>\n",
       "    </tr>\n",
       "  </tbody>\n",
       "</table>\n",
       "</div>"
      ],
      "text/plain": [
       "     省份名称                                              地级市名称\n",
       "0     北京市                                                北京市\n",
       "1     天津市                                                天津市\n",
       "2     河北省  石家庄市, 唐山市, 秦皇岛市, 邯郸市, 邢台市, 保定市, 张家口市, 承德市, 沧州市...\n",
       "3     山西省  太原市, 大同市, 阳泉市, 长治市, 晋城市, 朔州市, 晋中市, 运城市, 忻州市, 临...\n",
       "4  内蒙古自治区  呼和浩特市, 包头市, 乌海市, 赤峰市, 通辽市, 鄂尔多斯市, 呼伦贝尔市, 巴彦淖尔市..."
      ]
     },
     "execution_count": 3,
     "metadata": {},
     "output_type": "execute_result"
    }
   ],
   "source": [
    "df=pd.read_excel('全国省份和地级市划分.xlsx')\n",
    "df.head()"
   ]
  },
  {
   "cell_type": "code",
   "execution_count": 4,
   "id": "c2a1f751-8530-40e2-9f08-1ba0913bb03c",
   "metadata": {},
   "outputs": [
    {
     "data": {
      "text/plain": [
       "array(['北京市', '天津市', '河北省', '山西省', '内蒙古自治区', '辽宁省', '吉林省', '黑龙江省', '上海市',\n",
       "       '江苏省', '浙江省', '安徽省', '福建省', '江西省', '山东省', '河南省', '湖北省', '湖南省',\n",
       "       '广东省', '海南省', '四川省', '贵州省', '云南省', '陕西省'], dtype=object)"
      ]
     },
     "execution_count": 4,
     "metadata": {},
     "output_type": "execute_result"
    }
   ],
   "source": [
    "province=df[~df['省份名称'].isin(['甘肃省', '青海省', '宁夏回族自治区', '新疆维吾尔自治区', '台湾省', '香港特别行政区', \\\n",
    "                              '广西壮族自治区','澳门特别行政区','西藏自治区'])]['省份名称'].values\n",
    "province"
   ]
  },
  {
   "cell_type": "code",
   "execution_count": 5,
   "id": "1abbf021-d4ae-4c9e-9e55-e0eb56377b3f",
   "metadata": {},
   "outputs": [
    {
     "data": {
      "text/plain": [
       "['北京',\n",
       " '天津',\n",
       " '河北',\n",
       " '山西',\n",
       " '内蒙古',\n",
       " '辽宁',\n",
       " '吉林',\n",
       " '黑龙江',\n",
       " '上海',\n",
       " '江苏',\n",
       " '浙江',\n",
       " '安徽',\n",
       " '福建',\n",
       " '江西',\n",
       " '山东',\n",
       " '河南',\n",
       " '湖北',\n",
       " '湖南',\n",
       " '广东',\n",
       " '海南',\n",
       " '四川',\n",
       " '贵州',\n",
       " '云南',\n",
       " '陕西']"
      ]
     },
     "execution_count": 5,
     "metadata": {},
     "output_type": "execute_result"
    }
   ],
   "source": [
    "province=['北京市', '天津市', '河北省', '山西省', '内蒙古', '辽宁省', '吉林省', '黑龙江省', '上海市',\n",
    "       '江苏省', '浙江省', '安徽省', '福建省', '江西省', '山东省', '河南省', '湖北省', '湖南省',\n",
    "       '广东省', '海南省', '四川省', '贵州省', '云南省', '陕西省']\n",
    "province=[i.replace('省','').replace('市','') for i in province]\n",
    "province"
   ]
  },
  {
   "cell_type": "code",
   "execution_count": 6,
   "id": "cfee5c16-690d-44f6-a404-57b13d68a310",
   "metadata": {},
   "outputs": [
    {
     "data": {
      "text/html": [
       "<div>\n",
       "<style scoped>\n",
       "    .dataframe tbody tr th:only-of-type {\n",
       "        vertical-align: middle;\n",
       "    }\n",
       "\n",
       "    .dataframe tbody tr th {\n",
       "        vertical-align: top;\n",
       "    }\n",
       "\n",
       "    .dataframe thead th {\n",
       "        text-align: right;\n",
       "    }\n",
       "</style>\n",
       "<table border=\"1\" class=\"dataframe\">\n",
       "  <thead>\n",
       "    <tr style=\"text-align: right;\">\n",
       "      <th></th>\n",
       "      <th>keyword</th>\n",
       "    </tr>\n",
       "  </thead>\n",
       "  <tbody>\n",
       "    <tr>\n",
       "      <th>0</th>\n",
       "      <td>戴森吸尘器维修点北京</td>\n",
       "    </tr>\n",
       "    <tr>\n",
       "      <th>1</th>\n",
       "      <td>戴森维修是上门取吗</td>\n",
       "    </tr>\n",
       "    <tr>\n",
       "      <th>2</th>\n",
       "      <td>戴森吸尘器的头怎么卸掉</td>\n",
       "    </tr>\n",
       "    <tr>\n",
       "      <th>3</th>\n",
       "      <td>戴森维修售后网点杭州</td>\n",
       "    </tr>\n",
       "    <tr>\n",
       "      <th>4</th>\n",
       "      <td>戴森维修郑州</td>\n",
       "    </tr>\n",
       "  </tbody>\n",
       "</table>\n",
       "</div>"
      ],
      "text/plain": [
       "       keyword\n",
       "0   戴森吸尘器维修点北京\n",
       "1    戴森维修是上门取吗\n",
       "2  戴森吸尘器的头怎么卸掉\n",
       "3   戴森维修售后网点杭州\n",
       "4       戴森维修郑州"
      ]
     },
     "execution_count": 6,
     "metadata": {},
     "output_type": "execute_result"
    }
   ],
   "source": [
    "df_key=pd.read_csv('戴s关键词.csv')\n",
    "df_key.head()"
   ]
  },
  {
   "cell_type": "code",
   "execution_count": 7,
   "id": "5ae1f6b1-c3f2-44bf-b0e4-299b9c4533f7",
   "metadata": {},
   "outputs": [
    {
     "data": {
      "text/plain": [
       "316"
      ]
     },
     "execution_count": 7,
     "metadata": {},
     "output_type": "execute_result"
    }
   ],
   "source": [
    "key_words=list(set(df_key['keyword'].values))\n",
    "len(key_words)"
   ]
  },
  {
   "cell_type": "code",
   "execution_count": 8,
   "id": "1846970b-5cf8-4c9f-937f-07dce239cd59",
   "metadata": {},
   "outputs": [
    {
     "name": "stdout",
     "output_type": "stream",
     "text": [
      "清理戴森吸尘器\n",
      "戴森吸尘器v7电池如何更换\n",
      "戴森吸尘器维修\n",
      "戴森维修售后\n",
      "戴森吸尘器售后维修电话\n",
      "戴森吸尘器运行断断续续故障处理\n",
      "戴森吸尘器坏了怎么修理\n",
      "戴森吸尘器闪红灯怎么办\n",
      "戴森吸尘器断断续续是怎么回事\n",
      "dyson吹风机维修\n",
      "维修戴森吸尘器\n",
      "戴森v6吸尘器吸几秒就停了\n",
      "戴森吸尘器吸头配件哪里买\n",
      "戴森售后维修点\n",
      "戴森吸尘器为什么断断续续的\n",
      "戴森吸尘器v8电池更换\n",
      "戴森全国维修点查询\n",
      "戴森吸尘器没吸力\n",
      "戴森吸尘器维修服务\n",
      "戴森吸尘器v8红灯闪烁充不上电\n",
      "戴森吸尘器电池锁死激活\n",
      "戴森吸尘器维修点广州\n",
      "戴森吹风机专业维修\n",
      "戴森吸尘器1分钟没电\n",
      "戴森吸尘器不能开机怎么办\n",
      "戴森吸尘器电池充不进电怎么办\n",
      "戴森手持吸尘器充不了电\n",
      "戴森吸尘器电池换电芯\n",
      "戴森吸尘器维修服务电话\n",
      "戴森售后\n",
      "戴森吸尘器电池更换\n",
      "戴森v10进水维修\n",
      "戴森吸尘器吸一会就不工作了\n",
      "戴森吸尘器维修电话\n",
      "戴森吸尘器头刷子不转怎么修\n",
      "沈阳维修戴森吸尘器\n",
      "维修戴森\n",
      "戴森吸尘器充电灯不亮怎么回事\n",
      "戴森吸尘器维修费用\n",
      "戴森v11开关弹簧更换\n",
      "戴森吸尘器电池不耐用解决方案\n",
      "戴森吸尘器只能用一分钟\n",
      "戴森售后维修要几天\n",
      "戴森售后电话\n",
      "戴森济南售后\n",
      "戴森吸头不转修理\n",
      "戴森吸尘器武汉哪里有维修点\n",
      "戴森吸尘器上门维修价格\n",
      "戴森维修是上门取吗\n",
      "戴森吸尘器\n",
      "戴森吸尘器无法正常拆\n",
      "戴森吸尘器福州维修点在哪里\n",
      "戴森吹风机维修北京\n",
      "戴森售后点\n",
      "戴森北京售后维修点\n",
      "戴森无绳吸尘器\n",
      "戴森吸尘器维修点在哪里\n",
      "戴森售后地址\n",
      "戴森吸尘器维修点查询\n",
      "戴森吸尘器吸头不转的原因\n",
      "戴森吸尘器管道灯闪烁\n",
      "戴森吸尘器上门服务\n",
      "戴森指定维修点\n",
      "附近戴森吸尘器维修点地址\n",
      "戴森上海维修点\n",
      "戴森闪红灯无法充电解决方法\n",
      "附近戴森维修\n",
      "戴森吸尘器不启动了怎么回事\n",
      "戴森吸尘器不充电\n",
      "戴森吸尘器马达故障维修\n",
      "戴森吸尘器修理\n",
      "戴森售后dyson维修中心\n",
      "戴森v6红灯闪烁修理方法\n",
      "戴森吸尘器软管更换\n",
      "吸尘器吸力变小怎么修\n",
      "戴森吸尘器充不进电怎么办\n",
      "戴森吸尘器电池电芯维修\n",
      "戴森吸尘器电源灯闪烁不工作\n",
      "戴森电话\n",
      "戴森v11吸尘器刷头不动了\n",
      "塘沽戴森维修\n",
      "戴森泉州的维修点在哪里\n",
      "戴森二代吸尘器电池换电芯\n",
      "戴森维修服务部\n",
      "戴森吸尘器v10充不上电\n",
      "戴森dyson售后服务电话\n",
      "戴森v6吸尘器故障大全\n",
      "戴森吸尘器客服\n",
      "戴森吸尘器去哪里维修\n",
      "戴森吸尘器v12维修\n",
      "戴森维修郑州\n",
      "戴森吹风机维修上海\n",
      "戴森吸尘器V11拆装\n",
      "吸尘器出现闪灯不工作怎么办\n",
      "戴森主板维修\n",
      "戴森吸尘器维修中心\n",
      "戴森天津售后\n",
      "戴森汽车吸尘器维修\n",
      "v12戴森吸尘器拆洗\n",
      "戴森v10吸尘器滚筒不转\n",
      "戴森吸尘器堵住了怎么拆开清洁\n",
      "戴森吸尘器电池蓝灯闪\n",
      "戴森吸尘器拆\n",
      "戴森服务\n",
      "戴森吸尘器维修点\n",
      "戴森v6吸尘器吸几秒就闪黄灯\n",
      "戴森客服维修\n",
      "戴森维修售后网点杭州\n",
      "海口戴森吹风机维修\n",
      "戴森维修服务\n",
      "戴森售后服务部\n",
      "戴森维修点\n",
      "戴森v10吸尘器进水怎么办\n",
      "戴森吸尘器保养\n",
      "戴森吸尘器电路板上的电线\n",
      "戴森维修中心电话\n",
      "戴森吸尘器维修部\n",
      "戴森吸尘器充电器故障维修\n",
      "戴森吸尘器维修指定服务点\n",
      "戴森吸尘器充不上电怎么办\n",
      "戴森吸尘器闪红灯解决办法\n",
      "戴森吸尘器坏了怎么处理\n",
      "戴森吸尘器坏了怎么办\n",
      "戴森售后服务\n",
      "戴森吸尘器的维修点\n",
      "戴森吸尘器断断续续是什么问题\n",
      "戴森吸尘器哪儿有维修\n",
      "戴森吸尘器刷头不转\n",
      "戴森吸尘器保修点\n",
      "戴森吸尘器有电但没反应\n",
      "戴森吹风机维修点在哪里\n",
      "昆明戴森维修中心\n",
      "戴森吸尘器售后\n",
      "戴森吸尘器v6闪红灯维修\n",
      "戴森吸尘器电池拆卸\n",
      "戴森吸尘器电池坏了有什么表现\n",
      "更换戴森吸尘器电池\n",
      "戴森吸尘器北京有维修点吗\n",
      "戴森吸尘器充电灯一会就灭\n",
      "南京戴森售后维修点\n",
      "戴森维修电话\n",
      "戴森吸尘器售后电话\n",
      "戴森维修北京\n",
      "戴森v8吸尘器刷头不转了如何修理\n",
      "戴森售后服务电话\n",
      "戴森吸尘器清洗过滤网后故障\n",
      "戴森吸尘器filter灯亮\n",
      "戴森吸尘器进水了怎么解决\n",
      "戴森修理在什么地方\n",
      "戴森官方售后电话\n",
      "戴森吸尘器V11拆机清洗\n",
      "戴森维修站\n",
      "戴森v10轻量 维修\n",
      "戴森电池盒拆解维修\n",
      "戴森吸尘器电池维修\n",
      "戴森吸尘器不工作\n",
      "戴森吸尘器拆洗\n",
      "戴森v8吸尘器吸头不转了\n",
      "戴森官方售后维修点\n",
      "戴森深圳售后维修点\n",
      "戴森吸尘器清洗\n",
      "戴森吸尘器换原装电池太贵了\n",
      "戴森吸尘器不启动\n",
      "戴森深圳罗湖区售后维修点\n",
      "戴森售后电话是多少\n",
      "戴森吸尘器突然不工作\n",
      "戴森按钮维修\n",
      "戴森重庆售后地址\n",
      "戴森吸尘器主机拆卸\n",
      "吸尘器有电不工作是怎么回事\n",
      "戴森吸尘器头为什么突然不转了\n",
      "戴森吸尘器v10维修\n",
      "戴森v6吸尘器电池更换\n",
      "戴森官网首页\n",
      "戴森吸尘器v11装上电池开不了机\n",
      "戴森吸尘器维修教程\n",
      "戴森上门维修\n",
      "戴森吸尘器维修北京\n",
      "哪里能修戴森的吸尘器\n",
      "戴森吸尘器进水怎么\n",
      "戴森吸尘器吸头不转怎么处理\n",
      "戴森吸尘器红灯闪烁充不进去\n",
      "戴森维修售后网点电话\n",
      "戴森的售后服务\n",
      "戴森吸尘器一吸一停怎么办\n",
      "滨海新区吸尘器维修\n",
      "戴森吸尘器开关坏了怎么修\n",
      "戴森吸尘器售后服务中心\n",
      "戴森吸尘器不工作了绿灯一直闪\n",
      "戴森吸尘器拆卸\n",
      "戴森吸尘器哪里可以维修\n",
      "戴森吸尘器滚刷不动了怎么修\n",
      "戴森吹风开关维修\n",
      "戴森吸尘器维修点上海\n",
      "戴森维修杭州\n",
      "戴森北京维修中心\n",
      "戴森吸尘器红灯闪烁\n",
      "戴森吸尘器进水了启动不了怎么办\n",
      "戴森吹风机维修\n",
      "戴森吸尘器下面滚轮不转\n",
      "戴森吸尘器故障大全\n",
      "戴森的售后\n",
      "戴森吸尘器官网维修点\n",
      "戴森吸尘器怎么拆洗\n",
      "戴森吸尘器电池怎样检测是否坏了\n",
      "戴森吸尘器售后服务电话\n",
      "戴森电池维修北京\n",
      "戴森吸尘器怎么拆开清洁\n",
      "戴森吸尘器官网\n",
      "戴森吸尘器v11故障大全\n",
      "戴森吸尘器的吸头咔咔响\n",
      "戴森吸尘器亮白灯\n",
      "戴森吸尘器蓝灯闪烁怎么回事\n",
      "戴森吸尘器亮黄灯什么意思\n",
      "戴森杭州售后维修点\n",
      "戴森吸尘器电池保护板激活\n",
      "戴森进水修理\n",
      "戴森吸尘器维修网点\n",
      "戴森吸尘器去哪里修理\n",
      "v11戴森吸尘器开关失灵\n",
      "戴森v8吸尘器出现断断续续的声音\n",
      "戴森吸尘器接触不良怎么回事\n",
      "沈阳戴森吸尘器维修\n",
      "戴森吸尘器不工作了怎么办\n",
      "戴森吹风机售后服务中心\n",
      "戴森吹风机售后在哪里\n",
      "戴森维修武汉\n",
      "戴森怎么申请维修\n",
      "戴森吸尘器维修售后网点青岛\n",
      "戴森吸尘器v10响一声就停\n",
      "戴森吸尘器维修部地址\n",
      "戴森吸尘器北京维修站\n",
      "戴森吸尘器清洁后不工作\n",
      "吸尘器有电但是不工作\n",
      "戴森售后服务热线\n",
      "戴森吸尘器维修点北京\n",
      "戴森电吹风维修点\n",
      "戴森吸尘器v7蓝灯闪烁\n",
      "戴森吸尘器维修地址\n",
      "戴森吸尘器不回位\n",
      "戴森吸尘器进水维修多少钱\n",
      "戴森吸尘器12拆洗\n",
      "戴森维修\n",
      "戴森维修点查询\n",
      "戴森吸尘器淮安售后\n",
      "戴森\n",
      "戴森吸尘器充电不转怎么办\n",
      "戴森售后服务网点\n",
      "戴森吸尘器怎么找售后\n",
      "戴森吸尘器故障一吸一停\n",
      "维修戴森吹风机\n",
      "dyson戴森售后服务\n",
      "戴森吸尘器的头怎么卸掉\n",
      "戴森吸尘器不充电怎么办\n",
      "戴森吸尘器配件\n",
      "v11戴森吸尘器开关坏了怎么修\n",
      "戴森吸尘器为什么会一闪一闪的\n",
      "戴森吸尘器主机进水怎么办\n",
      "戴森吸尘器故障\n",
      "戴森吸尘器电机不转了\n",
      "戴森吸尘器主机更换\n",
      "戴森吸尘器无法启动\n",
      "戴森吸尘器盘锦有没有维修点\n",
      "戴森吸尘器充电后吸一会就停了\n",
      "戴森吸尘器拆洗v10怎么拆\n",
      "戴森吸尘器电源开关按不动\n",
      "戴森维修点南京\n",
      "戴森吸尘器为什么突然不吸了\n",
      "戴森v3吸尘器维修\n",
      "戴森维修中心\n",
      "戴森吸尘器盘锦维修\n",
      "戴森吸尘器深圳维修电话\n",
      "戴森吸尘器维修点杭州\n",
      "戴森吸尘器更换开关\n",
      "戴森吸尘器v8开关更换\n",
      "戴森吸尘器没有吸力\n",
      "戴森修理\n",
      "戴森吹风机在哪里修理\n",
      "戴森吸尘器电池蓝色灯一闪一闪\n",
      "戴森吸尘器闪灯不工作\n",
      "厦门戴森售后服务\n",
      "戴森官网吸尘器维修\n",
      "戴森吸尘器售后维修点\n",
      "戴森售后服务点\n",
      "戴森维修售后北京\n",
      "戴森吸尘器电池如何更换\n",
      "戴森吸尘器电池不存电怎么办\n",
      "戴森吸尘器头不转\n",
      "戴森风机维修\n",
      "戴森吸尘器红蓝色灯交替闪烁\n",
      "戴森吸尘器上海浦东维修点在哪里\n",
      "戴森吸尘器维修官方售后服务电话\n",
      "戴森吸尘器v7换电池\n",
      "戴森吸尘器充电充不上电\n",
      "戴森上门\n",
      "戴森吸尘器不运转\n",
      "戴森吸尘器充不上电\n",
      "戴森吸尘器吸头不转怎么回事\n",
      "戴森售后服务中心\n",
      "戴森吸尘器免费维修\n",
      "戴森v10吸尘器拆洗\n",
      "戴森吹风机维修深圳\n",
      "戴森v8吸尘器常见故障\n",
      "戴森吸尘器坏了如何处理\n",
      "戴森吸尘器不转动怎么回事\n",
      "戴森吸尘器头不转了怎么回事\n",
      "戴森吸尘器维修点查询天津\n",
      "有戴森维修点\n",
      "戴森吸尘器滚轴不转\n",
      "戴森官方售后维修中心\n",
      "戴森吸尘器更换电池\n",
      "戴森吸尘器换电池\n",
      "戴森吸尘器吸力减弱的原因\n",
      "戴森v10吸尘器马达维修\n",
      "戴森吹风机维修点重庆\n",
      "修理戴森吸尘器\n"
     ]
    }
   ],
   "source": [
    "for i in key_words:\n",
    "    print(i)"
   ]
  },
  {
   "cell_type": "code",
   "execution_count": 9,
   "id": "db8bfdb6-f18c-4dc0-a0eb-2b34795798e1",
   "metadata": {
    "scrolled": true
   },
   "outputs": [
    {
     "data": {
      "text/plain": [
       "array(['北京市', '天津市',\n",
       "       '石家庄市, 唐山市, 秦皇岛市, 邯郸市, 邢台市, 保定市, 张家口市, 承德市, 沧州市, 廊坊市, 衡水市',\n",
       "       '太原市, 大同市, 阳泉市, 长治市, 晋城市, 朔州市, 晋中市, 运城市, 忻州市, 临汾市, 吕梁市',\n",
       "       '呼和浩特市, 包头市, 乌海市, 赤峰市, 通辽市, 鄂尔多斯市, 呼伦贝尔市, 巴彦淖尔市, 乌兰察布市, 兴安盟, 锡林郭勒盟, 阿拉善盟',\n",
       "       '沈阳市, 大连市, 鞍山市, 抚顺市, 本溪市, 丹东市, 锦州市, 营口市, 阜新市, 辽阳市, 盘锦市, 铁岭市, 朝阳市, 葫芦岛市',\n",
       "       '长春市, 吉林市, 四平市, 辽源市, 通化市, 白山市, 松原市, 白城市, 延边朝鲜族自治州',\n",
       "       '哈尔滨市, 齐齐哈尔市, 鸡西市, 鹤岗市, 双鸭山市, 大庆市, 伊春市, 佳木斯市, 七台河市, 牡丹江市, 黑河市, 绥化市, 大兴安岭地区',\n",
       "       '上海市',\n",
       "       '南京市, 无锡市, 徐州市, 常州市, 苏州市, 南通市, 连云港市, 淮安市, 盐城市, 扬州市, 镇江市, 泰州市, 宿迁市',\n",
       "       '杭州市, 宁波市, 温州市, 嘉兴市, 湖州市, 绍兴市, 金华市, 衢州市, 舟山市, 台州市, 丽水市',\n",
       "       '合肥市, 芜湖市, 蚌埠市, 淮南市, 马鞍山市, 淮北市, 铜陵市, 安庆市, 黄山市, 滁州市, 阜阳市, 宿州市, 六安市, 亳州市, 池州市, 宣城市',\n",
       "       '福州市, 厦门市, 莆田市, 三明市, 泉州市, 漳州市, 南平市, 龙岩市, 宁德市',\n",
       "       '南昌市, 景德镇市, 萍乡市, 九江市, 新余市, 鹰潭市, 赣州市, 宜春市, 上饶市, 吉安市, 抚州市, 赣江新区',\n",
       "       '济南市, 青岛市, 淄博市, 枣庄市, 东营市, 烟台市, 潍坊市, 济宁市, 泰安市, 威海市, 日照市, 莱芜市, 临沂市, 德州市, 聊城市, 滨州市, 菏泽市',\n",
       "       '郑州市, 开封市, 洛阳市, 平顶山市, 安阳市, 鹤壁市, 新乡市, 焦作市, 濮阳市, 许昌市, 漯河市, 三门峡市, 南阳市, 商丘市, 信阳市, 周口市, 驻马店市, 济源市',\n",
       "       '武汉市, 黄石市, 十堰市, 宜昌市, 襄阳市, 鄂州市, 荆门市, 孝感市, 荆州市, 黄冈市, 咸宁市, 随州市, 恩施土家族苗族自治州, 仙桃市, 潜江市, 天门市, 神农架林区',\n",
       "       '长沙市, 株洲市, 湘潭市, 衡阳市, 邵阳市, 岳阳市, 常德市, 张家界市, 益阳市, 郴州市, 永州市, 怀化市, 娄底市',\n",
       "       '广州市, 深圳市, 珠海市, 汕头市, 佛山市, 韶关市, 湛江市, 肇庆市, 江门市, 茂名市, 惠州市, 梅州市, 汕尾市, 河源市, 阳江市, 清远市, 东莞市, 中山市, 潮州市, 揭阳市, 云浮市',\n",
       "       '南宁市, 柳州市, 桂林市, 梧州市, 北海市, 防城港市, 钦州市, 贵港市, 玉林市, 百色市, 贺州市, 河池市, 来宾市, 崇左市',\n",
       "       '海口市, 三亚市, 三沙市, 儋州市, 五指山市, 琼海市, 文昌市, 万宁市, 东方市, 定安县, 屯昌县, 澄迈县, 临高县, 白沙黎族自治县, 昌江黎族自治县, 乐东黎族自治县, 陵水黎族自治县, 保亭黎族苗族自治县, 琼中黎族苗族自治县',\n",
       "       '成都市, 自贡市, 攀枝花市, 泸州市, 德阳市, 绵阳市, 广元市, 遂宁市, 内江市, 乐山市, 南充市, 眉山市, 宜宾市, 广安市, 达州市, 雅安市, 巴中市, 资阳市, 阿坝藏族羌族自治州, 甘孜藏族自治州, 凉山彝族自治州',\n",
       "       '贵阳市, 六盘水市, 遵义市, 安顺市, 毕节市, 铜仁市, 黔西南布依族苗族自治州, 黔东南苗族侗族自治州, 黔南布依族苗族自治州',\n",
       "       '昆明市, 曲靖市, 玉溪市, 保山市, 昭通市, 丽江市, 普洱市, 临沧市, 楚雄彝族自治州, 红河哈尼族彝族自治州, 文山壮族苗族自治州, 西双版纳傣族自治州, 大理白族自治州, 德宏傣族景颇族自治州, 怒江傈僳族自治州, 迪庆藏族自治州',\n",
       "       '西安市, 铜川市, 宝鸡市, 咸阳市, 渭南市, 延安市, 汉中市, 榆林市, 安康市, 商洛市'], dtype=object)"
      ]
     },
     "execution_count": 9,
     "metadata": {},
     "output_type": "execute_result"
    }
   ],
   "source": [
    "city=df[~df['省份名称'].isin(['甘肃省', '青海省', '宁夏回族自治区', '新疆维吾尔自治区', '台湾省', '香港特别行政区', '澳门特别行政区','西藏自治区'])]['地级市名称'].values\n",
    "city"
   ]
  },
  {
   "cell_type": "code",
   "execution_count": 10,
   "id": "76c17eef-69bc-4386-89e7-a6a98f1b3ccd",
   "metadata": {},
   "outputs": [
    {
     "data": {
      "text/plain": [
       "309"
      ]
     },
     "execution_count": 10,
     "metadata": {},
     "output_type": "execute_result"
    }
   ],
   "source": [
    "city_list=[]\n",
    "for i in city:\n",
    "    cl=i.split(', ')\n",
    "    for c in cl:\n",
    "        city_list.append(c)\n",
    "len(city_list)"
   ]
  },
  {
   "cell_type": "code",
   "execution_count": 11,
   "id": "eab416fa-bf53-48be-95eb-46746cdfe497",
   "metadata": {},
   "outputs": [
    {
     "data": {
      "text/plain": [
       "286"
      ]
     },
     "execution_count": 11,
     "metadata": {},
     "output_type": "execute_result"
    }
   ],
   "source": [
    "city_list=[i for i in city_list if len(i)<6]\n",
    "len(city_list)"
   ]
  },
  {
   "cell_type": "code",
   "execution_count": 12,
   "id": "b9512e4d-7018-409c-973a-21b7b73f4d9c",
   "metadata": {},
   "outputs": [
    {
     "data": {
      "text/plain": [
       "286"
      ]
     },
     "execution_count": 12,
     "metadata": {},
     "output_type": "execute_result"
    }
   ],
   "source": [
    "city_list=[i.replace('省','').replace('市','') for i in city_list]\n",
    "len(city_list)"
   ]
  },
  {
   "cell_type": "code",
   "execution_count": 13,
   "id": "2a08098d-44f9-440f-9a46-4ddfb308df2a",
   "metadata": {},
   "outputs": [
    {
     "data": {
      "text/html": [
       "<div>\n",
       "<style scoped>\n",
       "    .dataframe tbody tr th:only-of-type {\n",
       "        vertical-align: middle;\n",
       "    }\n",
       "\n",
       "    .dataframe tbody tr th {\n",
       "        vertical-align: top;\n",
       "    }\n",
       "\n",
       "    .dataframe thead th {\n",
       "        text-align: right;\n",
       "    }\n",
       "</style>\n",
       "<table border=\"1\" class=\"dataframe\">\n",
       "  <thead>\n",
       "    <tr style=\"text-align: right;\">\n",
       "      <th></th>\n",
       "      <th>city</th>\n",
       "    </tr>\n",
       "  </thead>\n",
       "  <tbody>\n",
       "    <tr>\n",
       "      <th>0</th>\n",
       "      <td>北京</td>\n",
       "    </tr>\n",
       "    <tr>\n",
       "      <th>1</th>\n",
       "      <td>天津</td>\n",
       "    </tr>\n",
       "    <tr>\n",
       "      <th>2</th>\n",
       "      <td>石家庄</td>\n",
       "    </tr>\n",
       "    <tr>\n",
       "      <th>3</th>\n",
       "      <td>唐山</td>\n",
       "    </tr>\n",
       "    <tr>\n",
       "      <th>4</th>\n",
       "      <td>秦皇岛</td>\n",
       "    </tr>\n",
       "  </tbody>\n",
       "</table>\n",
       "</div>"
      ],
      "text/plain": [
       "  city\n",
       "0   北京\n",
       "1   天津\n",
       "2  石家庄\n",
       "3   唐山\n",
       "4  秦皇岛"
      ]
     },
     "execution_count": 13,
     "metadata": {},
     "output_type": "execute_result"
    }
   ],
   "source": [
    "# 保存新关键词\n",
    "df_city=pd.DataFrame(city_list,columns=['city'])\n",
    "df_city.head()"
   ]
  },
  {
   "cell_type": "code",
   "execution_count": 14,
   "id": "74420ac1-0b77-4310-b05b-b19f46d52b45",
   "metadata": {},
   "outputs": [],
   "source": [
    "df_city.to_csv('地级市列表.csv',index=0)"
   ]
  },
  {
   "cell_type": "code",
   "execution_count": 24,
   "id": "a33ca48c-66a2-4fa4-9f1e-1a740b564052",
   "metadata": {},
   "outputs": [
    {
     "data": {
      "text/plain": [
       "316"
      ]
     },
     "execution_count": 24,
     "metadata": {},
     "output_type": "execute_result"
    }
   ],
   "source": [
    "new_key_words=[]\n",
    "for i in key_words:\n",
    "    new_key_words.append(i)\n",
    "len(new_key_words)"
   ]
  },
  {
   "cell_type": "code",
   "execution_count": 25,
   "id": "0714a141-ed1e-45db-9c5b-4124c037b20e",
   "metadata": {},
   "outputs": [
    {
     "data": {
      "text/plain": [
       "888"
      ]
     },
     "execution_count": 25,
     "metadata": {},
     "output_type": "execute_result"
    }
   ],
   "source": [
    "key_words2=['戴森维修','戴森售后服务点']\n",
    "for i in city_list:\n",
    "    for j in key_words2:\n",
    "        # print(i+j)\n",
    "        new_key_words.append(i+j)\n",
    "len(new_key_words)"
   ]
  },
  {
   "cell_type": "code",
   "execution_count": 26,
   "id": "c50e1a27-6e4a-4bd2-a836-e273a8f8092e",
   "metadata": {},
   "outputs": [
    {
     "data": {
      "text/html": [
       "<div>\n",
       "<style scoped>\n",
       "    .dataframe tbody tr th:only-of-type {\n",
       "        vertical-align: middle;\n",
       "    }\n",
       "\n",
       "    .dataframe tbody tr th {\n",
       "        vertical-align: top;\n",
       "    }\n",
       "\n",
       "    .dataframe thead th {\n",
       "        text-align: right;\n",
       "    }\n",
       "</style>\n",
       "<table border=\"1\" class=\"dataframe\">\n",
       "  <thead>\n",
       "    <tr style=\"text-align: right;\">\n",
       "      <th></th>\n",
       "      <th>key_word</th>\n",
       "    </tr>\n",
       "  </thead>\n",
       "  <tbody>\n",
       "    <tr>\n",
       "      <th>0</th>\n",
       "      <td>清理戴森吸尘器</td>\n",
       "    </tr>\n",
       "    <tr>\n",
       "      <th>1</th>\n",
       "      <td>戴森吸尘器v7电池如何更换</td>\n",
       "    </tr>\n",
       "    <tr>\n",
       "      <th>2</th>\n",
       "      <td>戴森吸尘器维修</td>\n",
       "    </tr>\n",
       "    <tr>\n",
       "      <th>3</th>\n",
       "      <td>戴森维修售后</td>\n",
       "    </tr>\n",
       "    <tr>\n",
       "      <th>4</th>\n",
       "      <td>戴森吸尘器售后维修电话</td>\n",
       "    </tr>\n",
       "  </tbody>\n",
       "</table>\n",
       "</div>"
      ],
      "text/plain": [
       "        key_word\n",
       "0        清理戴森吸尘器\n",
       "1  戴森吸尘器v7电池如何更换\n",
       "2        戴森吸尘器维修\n",
       "3         戴森维修售后\n",
       "4    戴森吸尘器售后维修电话"
      ]
     },
     "execution_count": 26,
     "metadata": {},
     "output_type": "execute_result"
    }
   ],
   "source": [
    "# 保存新关键词\n",
    "df_new=pd.DataFrame(new_key_words,columns=['key_word'])\n",
    "df_new.head()"
   ]
  },
  {
   "cell_type": "code",
   "execution_count": 27,
   "id": "ebdadbed-567c-4620-8412-cfc4d8f7050e",
   "metadata": {},
   "outputs": [],
   "source": [
    "df_new.to_csv('戴s关键词扩充v1.csv',index=0)"
   ]
  },
  {
   "cell_type": "code",
   "execution_count": 28,
   "id": "c264f9b0-dcf5-421f-bb48-220bfb7b77e5",
   "metadata": {},
   "outputs": [
    {
     "data": {
      "text/html": [
       "<div>\n",
       "<style scoped>\n",
       "    .dataframe tbody tr th:only-of-type {\n",
       "        vertical-align: middle;\n",
       "    }\n",
       "\n",
       "    .dataframe tbody tr th {\n",
       "        vertical-align: top;\n",
       "    }\n",
       "\n",
       "    .dataframe thead th {\n",
       "        text-align: right;\n",
       "    }\n",
       "</style>\n",
       "<table border=\"1\" class=\"dataframe\">\n",
       "  <thead>\n",
       "    <tr style=\"text-align: right;\">\n",
       "      <th></th>\n",
       "      <th>key_word</th>\n",
       "    </tr>\n",
       "  </thead>\n",
       "  <tbody>\n",
       "    <tr>\n",
       "      <th>0</th>\n",
       "      <td>清理戴森吸尘器</td>\n",
       "    </tr>\n",
       "    <tr>\n",
       "      <th>1</th>\n",
       "      <td>戴森吸尘器v7电池如何更换</td>\n",
       "    </tr>\n",
       "    <tr>\n",
       "      <th>2</th>\n",
       "      <td>戴森吸尘器维修</td>\n",
       "    </tr>\n",
       "    <tr>\n",
       "      <th>3</th>\n",
       "      <td>戴森维修售后</td>\n",
       "    </tr>\n",
       "    <tr>\n",
       "      <th>4</th>\n",
       "      <td>戴森吸尘器售后维修电话</td>\n",
       "    </tr>\n",
       "    <tr>\n",
       "      <th>...</th>\n",
       "      <td>...</td>\n",
       "    </tr>\n",
       "    <tr>\n",
       "      <th>883</th>\n",
       "      <td>榆林戴森售后服务点</td>\n",
       "    </tr>\n",
       "    <tr>\n",
       "      <th>884</th>\n",
       "      <td>安康戴森维修</td>\n",
       "    </tr>\n",
       "    <tr>\n",
       "      <th>885</th>\n",
       "      <td>安康戴森售后服务点</td>\n",
       "    </tr>\n",
       "    <tr>\n",
       "      <th>886</th>\n",
       "      <td>商洛戴森维修</td>\n",
       "    </tr>\n",
       "    <tr>\n",
       "      <th>887</th>\n",
       "      <td>商洛戴森售后服务点</td>\n",
       "    </tr>\n",
       "  </tbody>\n",
       "</table>\n",
       "<p>888 rows × 1 columns</p>\n",
       "</div>"
      ],
      "text/plain": [
       "          key_word\n",
       "0          清理戴森吸尘器\n",
       "1    戴森吸尘器v7电池如何更换\n",
       "2          戴森吸尘器维修\n",
       "3           戴森维修售后\n",
       "4      戴森吸尘器售后维修电话\n",
       "..             ...\n",
       "883      榆林戴森售后服务点\n",
       "884         安康戴森维修\n",
       "885      安康戴森售后服务点\n",
       "886         商洛戴森维修\n",
       "887      商洛戴森售后服务点\n",
       "\n",
       "[888 rows x 1 columns]"
      ]
     },
     "execution_count": 28,
     "metadata": {},
     "output_type": "execute_result"
    }
   ],
   "source": [
    "df_new"
   ]
  },
  {
   "cell_type": "code",
   "execution_count": null,
   "id": "d24d7bef-73a9-4c9c-8787-cdc14235b1ae",
   "metadata": {},
   "outputs": [],
   "source": []
  }
 ],
 "metadata": {
  "kernelspec": {
   "display_name": "Python 3 (ipykernel)",
   "language": "python",
   "name": "python3"
  },
  "language_info": {
   "codemirror_mode": {
    "name": "ipython",
    "version": 3
   },
   "file_extension": ".py",
   "mimetype": "text/x-python",
   "name": "python",
   "nbconvert_exporter": "python",
   "pygments_lexer": "ipython3",
   "version": "3.8.15"
  }
 },
 "nbformat": 4,
 "nbformat_minor": 5
}
